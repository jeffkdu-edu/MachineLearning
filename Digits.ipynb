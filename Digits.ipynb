{
  "nbformat": 4,
  "nbformat_minor": 0,
  "metadata": {
    "colab": {
      "provenance": [],
      "authorship_tag": "ABX9TyOsn6t+I7L5r5KpP94CLZR3",
      "include_colab_link": true
    },
    "kernelspec": {
      "name": "python3",
      "display_name": "Python 3"
    },
    "language_info": {
      "name": "python"
    }
  },
  "cells": [
    {
      "cell_type": "markdown",
      "metadata": {
        "id": "view-in-github",
        "colab_type": "text"
      },
      "source": [
        "<a href=\"https://colab.research.google.com/github/jeffkdu-edu/MachineLearning/blob/main/Digits.ipynb\" target=\"_parent\"><img src=\"https://colab.research.google.com/assets/colab-badge.svg\" alt=\"Open In Colab\"/></a>"
      ]
    },
    {
      "cell_type": "code",
      "source": [
        "# Read in the mnist digit dataset\n",
        "\n",
        "from sklearn.datasets import fetch_openml\n",
        "from sklearn.model_selection import train_test_split\n",
        "from sklearn.utils import check_random_state\n",
        "import random\n",
        "from sklearn import tree\n",
        "import matplotlib.pyplot as plt\n",
        "import numpy as np\n",
        "from sklearn.neural_network import MLPClassifier\n",
        "# works with as_frame set to False otherwise error on X[permutation]\n",
        "X, y = fetch_openml('mnist_784', version=1, return_X_y=True, as_frame=False)"
      ],
      "metadata": {
        "id": "q5p_RmWC45C4"
      },
      "execution_count": null,
      "outputs": []
    },
    {
      "cell_type": "markdown",
      "metadata": {
        "id": "KB0MV4C1jCAC"
      },
      "source": [
        "Divide the data into a training set and test set, randomly selecting 5000 examples for training"
      ]
    },
    {
      "cell_type": "code",
      "metadata": {
        "id": "IJ2-XGCVTBK3"
      },
      "source": [
        "train_samples = 5000\n",
        "\n",
        "random_state = check_random_state(0)\n",
        "permutation = random_state.permutation(X.shape[0])\n",
        "X = X[permutation]\n",
        "y = y[permutation]\n",
        "X = X.reshape((X.shape[0], -1))\n",
        "\n",
        "X_train, X_test, y_train, y_test = train_test_split(\n",
        "    X, y, train_size=train_samples, test_size=10000)"
      ],
      "execution_count": null,
      "outputs": []
    },
    {
      "cell_type": "markdown",
      "source": [
        "Examine one of the instances. It says it is a '7' but it is not evident why exactly."
      ],
      "metadata": {
        "id": "2LblFTbWwR5E"
      }
    },
    {
      "cell_type": "code",
      "source": [
        "# i = random.randint(0, len(X_train))\n",
        "print(X_train[500])\n",
        "y_train[500]"
      ],
      "metadata": {
        "colab": {
          "base_uri": "https://localhost:8080/",
          "height": 1000
        },
        "id": "nFn7dx-3wFyK",
        "outputId": "f4461f97-352b-4c6a-91e1-cc8c953c5fc3"
      },
      "execution_count": null,
      "outputs": [
        {
          "output_type": "stream",
          "name": "stdout",
          "text": [
            "[  0.   0.   0.   0.   0.   0.   0.   0.   0.   0.   0.   0.   0.   0.\n",
            "   0.   0.   0.   0.   0.   0.   0.   0.   0.   0.   0.   0.   0.   0.\n",
            "   0.   0.   0.   0.   0.   0.   0.   0.   0.   0.   0.   0.   0.   0.\n",
            "   0.   0.   0.   0.   0.   0.   0.   0.   0.   0.   0.   0.   0.   0.\n",
            "   0.   0.   0.   0.   0.   0.   0.   0.   0.   0.   0.   0.   0.   0.\n",
            "   0.   0.   0.   0.   0.   0.   0.   0.   0.   0.   0.   0.   0.   0.\n",
            "   0.   0.   0.   0.   0.   0.   0.   0.   0.   0.   0.   0.   0.   0.\n",
            "   0.   0.   0.   0.   0.   0.   0.   0.   0.   0.   0.   0.   0.   0.\n",
            "   0.   0.   0.   0.   0.   0.   0.   0.   0.   0.   0.   0.   0.   0.\n",
            "   0.   0.   0.   0.   0.   0.   0.   0.   0.   0.   0.   0.   0.   0.\n",
            "   0.   0.   0.   0.   0.   0.   0.   0.   0.   0.   0.   0.   0.   0.\n",
            "   0.   0.   0.   0.   0.   0.   0.   0.   0.   0.   0.   0.   0.   0.\n",
            "   0.   0.   0.   0.   0.   0.   0.   0.   0.   0.  20. 121. 128. 253.\n",
            " 255. 253. 253. 253. 116.   0.   0.   0.   0.   0.   0.   0.   0.   0.\n",
            "   0.   0.   0.   0.   0.   0.   0.  34. 107. 107. 200. 252. 252. 252.\n",
            " 253. 252. 252. 252. 249. 119.   0.   0.   0.   0.   0.   0.   0.   0.\n",
            "   0.   0.   0.   0.   0.   0. 133. 235. 252. 252. 252. 252. 252. 252.\n",
            " 253. 252. 252. 252. 252. 198.   0.   0.   0.   0.   0.   0.   0.   0.\n",
            "   0.   0.   0.   0.  39. 207. 248. 252. 252. 252. 197. 172.  95.  39.\n",
            "  39.  39. 160. 252. 252. 198.   0.   0.   0.   0.   0.   0.   0.   0.\n",
            "   0.   0.   0.   0. 121. 252. 252. 217. 199.  87.  17.   0.   0.   0.\n",
            "   0.   0. 226. 252. 252. 163.   0.   0.   0.   0.   0.   0.   0.   0.\n",
            "   0.   0.   0.   0.  32. 192.  79.  31.  14.   0.   0.   0.   0.   0.\n",
            "   0.  80. 245. 252. 238.  52.   0.   0.   0.   0.   0.   0.   0.   0.\n",
            "   0.   0.   0.   0.   0.   0.   0.   0.   0.   0.   0.   0.   0.   0.\n",
            "   0. 107. 252. 252. 185.   0.   0.   0.   0.   0.   0.   0.   0.   0.\n",
            "   0.   0.   0.   0.   0.   0.   0.   0.   0.   0.   0.   0.   0.   0.\n",
            "   0. 191. 252. 252. 185.   0.   0.   0.   0.   0.   0.   0.   0.   0.\n",
            "   0.   0.   0.   0.   0.   0.   0.   0.   4.  14.  14.  99. 146. 146.\n",
            " 147. 247. 252. 252. 224. 146.  56.  14.   6.   0.   0.   0.   0.   0.\n",
            "   0.   0.   0.   0.   0.   0.   0.  43. 164. 252. 252. 252. 252. 252.\n",
            " 253. 252. 252. 252. 252. 252. 252. 252. 176.   0.   0.   0.   0.   0.\n",
            "   0.   0.   0.   0.   0.   0.  45. 162. 253. 253. 253. 253. 253. 253.\n",
            " 255. 253. 253. 253. 253. 253. 253. 253. 253. 120.   0.   0.   0.   0.\n",
            "   0.   0.   0.   0.   0.   0.  54. 235. 252. 252. 252. 241. 145. 202.\n",
            " 253. 252. 252. 161. 145.  47. 104. 131.  13.   6.   0.   0.   0.   0.\n",
            "   0.   0.   0.   0.   0.   0.   0.  22.  26.  26.  26.  23.   0.  63.\n",
            " 253. 252. 252.  39.   0.   0.   0.   0.   0.   0.   0.   0.   0.   0.\n",
            "   0.   0.   0.   0.   0.   0.   0.   0.   0.   0.   0.   0.   0. 133.\n",
            " 253. 252. 252.  39.   0.   0.   0.   0.   0.   0.   0.   0.   0.   0.\n",
            "   0.   0.   0.   0.   0.   0.   0.   0.   0.   0.   0.   0.   0. 133.\n",
            " 253. 252. 227.  29.   0.   0.   0.   0.   0.   0.   0.   0.   0.   0.\n",
            "   0.   0.   0.   0.   0.   0.   0.   0.   0.   0.   0.   0.   3. 158.\n",
            " 253. 252. 158.   0.   0.   0.   0.   0.   0.   0.   0.   0.   0.   0.\n",
            "   0.   0.   0.   0.   0.   0.   0.   0.   0.   0.   0.   0.  14. 252.\n",
            " 253. 252. 158.   0.   0.   0.   0.   0.   0.   0.   0.   0.   0.   0.\n",
            "   0.   0.   0.   0.   0.   0.   0.   0.   0.   0.   0.   0.  12. 239.\n",
            " 253. 252.  75.   0.   0.   0.   0.   0.   0.   0.   0.   0.   0.   0.\n",
            "   0.   0.   0.   0.   0.   0.   0.   0.   0.   0.   0.   0.   0. 127.\n",
            " 253. 190.  11.   0.   0.   0.   0.   0.   0.   0.   0.   0.   0.   0.\n",
            "   0.   0.   0.   0.   0.   0.   0.   0.   0.   0.   0.   0.   0.   0.\n",
            " 253. 145.   0.   0.   0.   0.   0.   0.   0.   0.   0.   0.   0.   0.\n",
            "   0.   0.   0.   0.   0.   0.   0.   0.   0.   0.   0.   0.   0.   0.\n",
            "   0.   0.   0.   0.   0.   0.   0.   0.   0.   0.   0.   0.   0.   0.\n",
            "   0.   0.   0.   0.   0.   0.   0.   0.   0.   0.   0.   0.   0.   0.\n",
            "   0.   0.   0.   0.   0.   0.   0.   0.   0.   0.   0.   0.   0.   0.]\n"
          ]
        },
        {
          "output_type": "execute_result",
          "data": {
            "text/plain": [
              "'7'"
            ],
            "application/vnd.google.colaboratory.intrinsic+json": {
              "type": "string"
            }
          },
          "metadata": {},
          "execution_count": 13
        }
      ]
    },
    {
      "cell_type": "markdown",
      "source": [
        "Let's print out the 500th \n",
        " item in the dataset and its label."
      ],
      "metadata": {
        "id": "4_SSfOHWxSpq"
      }
    },
    {
      "cell_type": "code",
      "source": [
        "i = 500\n",
        "img = np.array(X_train[i]).reshape(28,28)\n",
        "plt.imshow(img, cmap='gray', vmin=0, vmax=255)\n",
        "plt.show()\n",
        "y_train[i]"
      ],
      "metadata": {
        "colab": {
          "base_uri": "https://localhost:8080/",
          "height": 283
        },
        "id": "ZnwzIfbswnX6",
        "outputId": "11744e27-4e81-49d2-b953-6d6fc7454a2f"
      },
      "execution_count": null,
      "outputs": [
        {
          "output_type": "display_data",
          "data": {
            "text/plain": [
              "<Figure size 432x288 with 1 Axes>"
            ],
            "image/png": "[encoded data removed]"
          },
          "metadata": {
            "needs_background": "light"
          }
        },
        {
          "output_type": "execute_result",
          "data": {
            "text/plain": [
              "'7'"
            ],
            "application/vnd.google.colaboratory.intrinsic+json": {
              "type": "string"
            }
          },
          "metadata": {},
          "execution_count": 10
        }
      ]
    },
    {
      "cell_type": "markdown",
      "source": [
        "Let's look at a decision tree classifier.\n",
        "The result isn't very good at ~ 77%"
      ],
      "metadata": {
        "id": "c_6PoMDayAjV"
      }
    },
    {
      "cell_type": "code",
      "source": [
        "clf = tree.DecisionTreeClassifier(max_leaf_nodes=170)\n",
        "clf = clf.fit(X_train, y_train)\n",
        "correct= 0\n",
        "for i in range(len(X_test)):\n",
        "  if clf.predict([X_test[i]]) == y_test[i]:\n",
        "    correct += 1\n",
        "  acc = [100.0 * correct / len(X_test)]\n",
        "acc"
      ],
      "metadata": {
        "colab": {
          "base_uri": "https://localhost:8080/"
        },
        "id": "o2TXGniHyYFA",
        "outputId": "285ad67d-174b-4642-ee6c-3698b64831cb"
      },
      "execution_count": null,
      "outputs": [
        {
          "output_type": "execute_result",
          "data": {
            "text/plain": [
              "[76.53]"
            ]
          },
          "metadata": {},
          "execution_count": 12
        }
      ]
    },
    {
      "cell_type": "markdown",
      "source": [
        "Next let's try a linear neural network and see if we get better results.\n",
        "Here we can try a MLP(multi layer perceptron) classifier. Also the hidden_layer_sizes hyperparameter is set to an empty list '[]' because we are building a network with no hidden units. The activation is set to 'identity' because we are using linear activation with the accumulated sum identical. Even with no hidden units, he result is a solid 'B' with an ~86% . Still not great. Neuaral networks are suited for gathering low level info from the entire input. The decision tree only looked 170 of the pixels wheras the neural network uses all 784 pixels. Therefore, we get a better score than with the decision tree. "
      ],
      "metadata": {
        "id": "mGtKP6xsz9PE"
      }
    },
    {
      "cell_type": "code",
      "source": [
        "clf = MLPClassifier(hidden_layer_sizes=[], max_iter=10000, activation='identity')\n",
        "clf.fit(X_train, y_train)\n",
        "score = clf.score(X_test, y_test)\n",
        "print(score)"
      ],
      "metadata": {
        "colab": {
          "base_uri": "https://localhost:8080/"
        },
        "id": "2Xm8gjgUzLD_",
        "outputId": "12bb5755-7991-4d74-d6e9-bc6b61ab8e6d"
      },
      "execution_count": null,
      "outputs": [
        {
          "output_type": "stream",
          "name": "stdout",
          "text": [
            "0.8526\n"
          ]
        }
      ]
    },
    {
      "cell_type": "markdown",
      "source": [
        "The network architecture has one input node fro each pixel in the image.\n",
        "784 input nodes(pixels) and 10 output nodes(for numbers 0 - 9)."
      ],
      "metadata": {
        "id": "Y0w85tkb47-E"
      }
    },
    {
      "cell_type": "code",
      "source": [
        "len(clf.coefs_[0].T)"
      ],
      "metadata": {
        "colab": {
          "base_uri": "https://localhost:8080/"
        },
        "id": "geIWgE8G2OQK",
        "outputId": "d316141f-fbe5-4e5e-d4db-076063b97dd6"
      },
      "execution_count": null,
      "outputs": [
        {
          "output_type": "execute_result",
          "data": {
            "text/plain": [
              "10"
            ]
          },
          "metadata": {},
          "execution_count": 16
        }
      ]
    },
    {
      "cell_type": "markdown",
      "source": [
        "Now, we will add one hidden layer and expand the number of hidden units from 10 to 200 in intervals of 10. We'll print the accuracy of each model given the number of hidden units."
      ],
      "metadata": {
        "id": "VucBbLM15oSx"
      }
    },
    {
      "cell_type": "code",
      "source": [
        "for i in range(1,21):\n",
        "  nhidden = i*10\n",
        "  clf = MLPClassifier(hidden_layer_sizes=[nhidden], max_iter = 10000)\n",
        "  clf.fit(X_train, y_train)\n",
        "  score = clf.score(X_test, y_test)\n",
        "  print(nhidden, score)"
      ],
      "metadata": {
        "colab": {
          "base_uri": "https://localhost:8080/"
        },
        "id": "nMHidvuj5d6o",
        "outputId": "9d4f3c94-9c70-473f-b5f9-161e72099dad"
      },
      "execution_count": null,
      "outputs": [
        {
          "output_type": "stream",
          "name": "stdout",
          "text": [
            "10 0.4207\n",
            "20 0.6937\n",
            "30 0.868\n",
            "40 0.8728\n",
            "50 0.8585\n",
            "60 0.8804\n",
            "70 0.8742\n",
            "80 0.8685\n",
            "90 0.8922\n",
            "100 0.8842\n",
            "110 0.8812\n",
            "120 0.8983\n",
            "130 0.9072\n",
            "140 0.9011\n",
            "150 0.9076\n",
            "160 0.9045\n",
            "170 0.9066\n",
            "180 0.9112\n",
            "190 0.9072\n",
            "200 0.9015\n"
          ]
        }
      ]
    },
    {
      "cell_type": "markdown",
      "source": [
        "Looks like the best number of hidden units is around 170 - 180. This gives us the best score of about 90 - 91 %. That's an A-. Getting better."
      ],
      "metadata": {
        "id": "N9UNn_y28lhi"
      }
    },
    {
      "cell_type": "markdown",
      "source": [
        "Lets take the number of hidden units to be about 170 and train 10 times to see if we get a solid performance for all runs."
      ],
      "metadata": {
        "id": "B9OdEoY39zrM"
      }
    },
    {
      "cell_type": "code",
      "source": [
        "for i in range(11):\n",
        "  nhidden = 170\n",
        "  clf = MLPClassifier(hidden_layer_sizes=[nhidden], max_iter = 10000)\n",
        "  clf.fit(X_train, y_train)\n",
        "  score = clf.score(X_test, y_test)\n",
        "  print(nhidden, score)"
      ],
      "metadata": {
        "colab": {
          "base_uri": "https://localhost:8080/"
        },
        "outputId": "404e3e21-7fe8-44a8-f11a-7dd92ae0a4ff",
        "id": "4LTBSOtT-D0O"
      },
      "execution_count": null,
      "outputs": [
        {
          "output_type": "stream",
          "name": "stdout",
          "text": [
            "170 0.9037\n",
            "170 0.8996\n",
            "170 0.9116\n",
            "170 0.9054\n",
            "170 0.9115\n",
            "170 0.9002\n",
            "170 0.9089\n",
            "170 0.915\n",
            "170 0.8978\n",
            "170 0.9032\n",
            "170 0.9013\n"
          ]
        }
      ]
    },
    {
      "cell_type": "markdown",
      "source": [
        "The network is performing consistantly and above the network with no hidden units with a top score around 91% accuracy. Not bad! 🙂"
      ],
      "metadata": {
        "id": "5U97JevF_QfX"
      }
    },
    {
      "cell_type": "code",
      "source": [],
      "metadata": {
        "id": "XmHpvu-G-Phs"
      },
      "execution_count": null,
      "outputs": []
    }
  ]
}